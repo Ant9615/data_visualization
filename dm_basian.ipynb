{
 "cells": [
  {
   "cell_type": "code",
   "execution_count": 37,
   "metadata": {},
   "outputs": [],
   "source": [
    "library(caret)\n",
    "library(ggplot2)\n",
    "library(rpart)"
   ]
  },
  {
   "cell_type": "code",
   "execution_count": 16,
   "metadata": {},
   "outputs": [
    {
     "data": {
      "text/html": [
       "<table>\n",
       "<caption>A data.frame: 6 × 6</caption>\n",
       "<thead>\n",
       "\t<tr><th></th><th scope=col>X</th><th scope=col>Outlook</th><th scope=col>Temp</th><th scope=col>Humidity</th><th scope=col>Windy</th><th scope=col>Play</th></tr>\n",
       "\t<tr><th></th><th scope=col>&lt;int&gt;</th><th scope=col>&lt;fct&gt;</th><th scope=col>&lt;int&gt;</th><th scope=col>&lt;int&gt;</th><th scope=col>&lt;lgl&gt;</th><th scope=col>&lt;fct&gt;</th></tr>\n",
       "</thead>\n",
       "<tbody>\n",
       "\t<tr><th scope=row>1</th><td>1</td><td>Sunny   </td><td>95</td><td>60</td><td>FALSE</td><td>No </td></tr>\n",
       "\t<tr><th scope=row>2</th><td>2</td><td>Sunny   </td><td>94</td><td>65</td><td> TRUE</td><td>No </td></tr>\n",
       "\t<tr><th scope=row>3</th><td>3</td><td>Overcast</td><td>80</td><td>80</td><td>FALSE</td><td>Yes</td></tr>\n",
       "\t<tr><th scope=row>4</th><td>4</td><td>Rainy   </td><td>75</td><td>74</td><td>FALSE</td><td>Yes</td></tr>\n",
       "\t<tr><th scope=row>5</th><td>5</td><td>Overcast</td><td>42</td><td>57</td><td> TRUE</td><td>Yes</td></tr>\n",
       "\t<tr><th scope=row>6</th><td>6</td><td>Sunny   </td><td>79</td><td>31</td><td>FALSE</td><td>No </td></tr>\n",
       "</tbody>\n",
       "</table>\n"
      ],
      "text/latex": [
       "A data.frame: 6 × 6\n",
       "\\begin{tabular}{r|llllll}\n",
       "  & X & Outlook & Temp & Humidity & Windy & Play\\\\\n",
       "  & <int> & <fct> & <int> & <int> & <lgl> & <fct>\\\\\n",
       "\\hline\n",
       "\t1 & 1 & Sunny    & 95 & 60 & FALSE & No \\\\\n",
       "\t2 & 2 & Sunny    & 94 & 65 &  TRUE & No \\\\\n",
       "\t3 & 3 & Overcast & 80 & 80 & FALSE & Yes\\\\\n",
       "\t4 & 4 & Rainy    & 75 & 74 & FALSE & Yes\\\\\n",
       "\t5 & 5 & Overcast & 42 & 57 &  TRUE & Yes\\\\\n",
       "\t6 & 6 & Sunny    & 79 & 31 & FALSE & No \\\\\n",
       "\\end{tabular}\n"
      ],
      "text/markdown": [
       "\n",
       "A data.frame: 6 × 6\n",
       "\n",
       "| <!--/--> | X &lt;int&gt; | Outlook &lt;fct&gt; | Temp &lt;int&gt; | Humidity &lt;int&gt; | Windy &lt;lgl&gt; | Play &lt;fct&gt; |\n",
       "|---|---|---|---|---|---|---|\n",
       "| 1 | 1 | Sunny    | 95 | 60 | FALSE | No  |\n",
       "| 2 | 2 | Sunny    | 94 | 65 |  TRUE | No  |\n",
       "| 3 | 3 | Overcast | 80 | 80 | FALSE | Yes |\n",
       "| 4 | 4 | Rainy    | 75 | 74 | FALSE | Yes |\n",
       "| 5 | 5 | Overcast | 42 | 57 |  TRUE | Yes |\n",
       "| 6 | 6 | Sunny    | 79 | 31 | FALSE | No  |\n",
       "\n"
      ],
      "text/plain": [
       "  X Outlook  Temp Humidity Windy Play\n",
       "1 1 Sunny    95   60       FALSE No  \n",
       "2 2 Sunny    94   65        TRUE No  \n",
       "3 3 Overcast 80   80       FALSE Yes \n",
       "4 4 Rainy    75   74       FALSE Yes \n",
       "5 5 Overcast 42   57        TRUE Yes \n",
       "6 6 Sunny    79   31       FALSE No  "
      ]
     },
     "metadata": {},
     "output_type": "display_data"
    },
    {
     "name": "stdout",
     "output_type": "stream",
     "text": [
      "'data.frame':\t11 obs. of  6 variables:\n",
      " $ X       : int  1 2 3 4 5 6 7 8 9 10 ...\n",
      " $ Outlook : Factor w/ 3 levels \"Overcast\",\"Rainy\",..: 3 3 1 2 1 3 3 3 1 1 ...\n",
      " $ Temp    : int  95 94 80 75 42 79 46 85 86 77 ...\n",
      " $ Humidity: int  60 65 80 74 57 31 48 42 87 54 ...\n",
      " $ Windy   : logi  FALSE TRUE FALSE FALSE TRUE FALSE ...\n",
      " $ Play    : Factor w/ 2 levels \"No\",\"Yes\": 1 1 2 2 2 1 2 2 1 2 ...\n"
     ]
    },
    {
     "data": {
      "text/plain": [
       "       X            Outlook       Temp          Humidity       Windy        \n",
       " Min.   : 1.0   Overcast:4   Min.   :42.00   Min.   :31.00   Mode :logical  \n",
       " 1st Qu.: 3.5   Rainy   :2   1st Qu.:76.00   1st Qu.:51.00   FALSE:6        \n",
       " Median : 6.0   Sunny   :5   Median :80.00   Median :60.00   TRUE :5        \n",
       " Mean   : 6.0                Mean   :76.55   Mean   :61.09                  \n",
       " 3rd Qu.: 8.5                3rd Qu.:85.50   3rd Qu.:74.00                  \n",
       " Max.   :11.0                Max.   :95.00   Max.   :87.00                  \n",
       "  Play  \n",
       " No :5  \n",
       " Yes:6  \n",
       "        \n",
       "        \n",
       "        \n",
       "        "
      ]
     },
     "metadata": {},
     "output_type": "display_data"
    }
   ],
   "source": [
    "data <- read.csv(\"./minn.csv\")\n",
    "head(data)\n",
    "str(data)\n",
    "summary(data)"
   ]
  },
  {
   "cell_type": "code",
   "execution_count": 46,
   "metadata": {},
   "outputs": [],
   "source": [
    "set.seed(1000)\n",
    "intrain <- createDataPartition(y=data$Play, p=0.8, list=FALSE)\n",
    "train <- data[intrain, ]\n",
    "test <- data[-intrain,]"
   ]
  },
  {
   "cell_type": "code",
   "execution_count": 47,
   "metadata": {},
   "outputs": [
    {
     "data": {
      "image/png": "[encoded data removed]",
      "text/plain": [
       "plot without title"
      ]
     },
     "metadata": {
      "image/png": {
       "height": 420,
       "width": 420
      },
      "text/plain": {
       "height": 420,
       "width": 420
      }
     },
     "output_type": "display_data"
    }
   ],
   "source": [
    "treemod<-rpart(Play~., data=train,\n",
    "             control = rpart.control(\"minsplit\"=1))\n",
    "plot(treemod)\n",
    "text(treemod)"
   ]
  }
 ],
 "metadata": {
  "kernelspec": {
   "display_name": "R",
   "language": "R",
   "name": "ir"
  },
  "language_info": {
   "codemirror_mode": "r",
   "file_extension": ".r",
   "mimetype": "text/x-r-source",
   "name": "R",
   "pygments_lexer": "r",
   "version": "3.6.1"
  }
 },
 "nbformat": 4,
 "nbformat_minor": 2
}
